{
  "cells": [
    {
      "cell_type": "markdown",
      "metadata": {
        "id": "view-in-github",
        "colab_type": "text"
      },
      "source": [
        "<a href=\"https://colab.research.google.com/github/Yusuf-YENICERI/ChatGPT-Like-Bot-On-Google-Collab/blob/master/One_Click_AI_Bot.ipynb\" target=\"_parent\"><img src=\"https://colab.research.google.com/assets/colab-badge.svg\" alt=\"Open In Colab\"/></a>"
      ]
    },
    {
      "cell_type": "markdown",
      "source": [
        "BISMILLAHIRRAHMANIRRAHIM\n",
        "\n",
        "This is a one click Ai Bot based on GPT algorithm. This is specifically called as Vicuna-13b. It's like ChatGPT. You can use it to achieve many tasks like code writing talking etc. It's not able to speak languages other than English. But it might be able to understand other languages.\n",
        "\n",
        "Execute the cell below and wait until it generates a link for public on gradio.live. Then visit there."
      ],
      "metadata": {
        "id": "xNlcquZmwygi"
      }
    },
    {
      "cell_type": "code",
      "execution_count": null,
      "metadata": {
        "id": "bl88VgYpN2cE"
      },
      "outputs": [],
      "source": [
        "!git clone https://github.com/oobabooga/text-generation-webui\n",
        "!cd /content/text-generation-webui && pip install -r requirements.txt\n",
        "%cd /content/text-generation-webui\n",
        "!python download-model.py anon8231489123/vicuna-13b-GPTQ-4bit-128g\n",
        "!mkdir repositories\n",
        "%cd repositories\n",
        "!git clone https://github.com/oobabooga/GPTQ-for-LLaMa.git -b cuda\n",
        "%cd GPTQ-for-LLaMa\n",
        "!python setup_cuda.py install\n",
        "%cd /content/text-generation-webui\n",
        "!python server.py --chat --model anon8231489123_vicuna-13b-GPTQ-4bit-128g --model_type LLaMA --wbits 4 --groupsize 128 --share"
      ]
    }
  ],
  "metadata": {
    "accelerator": "GPU",
    "colab": {
      "provenance": [],
      "authorship_tag": "ABX9TyOL1NiiKMk0CSgfxVd9YyAh",
      "include_colab_link": true
    },
    "gpuClass": "standard",
    "kernelspec": {
      "display_name": "Python 3",
      "name": "python3"
    },
    "language_info": {
      "name": "python"
    }
  },
  "nbformat": 4,
  "nbformat_minor": 0
}